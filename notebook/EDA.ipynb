{
 "cells": [
  {
   "cell_type": "markdown",
   "metadata": {},
   "source": [
    "## Explaratory Data Analysis"
   ]
  },
  {
   "cell_type": "code",
   "execution_count": 1,
   "metadata": {},
   "outputs": [],
   "source": [
    "import pandas as pd\n",
    "import sys"
   ]
  },
  {
   "cell_type": "markdown",
   "metadata": {},
   "source": [
    "## Removing Duplicates\n"
   ]
  },
  {
   "cell_type": "code",
   "execution_count": 2,
   "metadata": {},
   "outputs": [
    {
     "name": "stdout",
     "output_type": "stream",
     "text": [
      "(2347, 6) (2347, 6)\n"
     ]
    }
   ],
   "source": [
    "df=pd.read_csv('C:/Users/King Betse/Desktop/Kifiya-AIM-W7/scraped_data.csv')\n",
    "# Remove duplicates\n",
    "df = df.drop_duplicates()\n",
    "\n",
    "# Save the cleaned data\n"
   ]
  },
  {
   "cell_type": "markdown",
   "metadata": {},
   "source": [
    "## Handling Missing Values\n"
   ]
  },
  {
   "cell_type": "code",
   "execution_count": 4,
   "metadata": {},
   "outputs": [
    {
     "name": "stdout",
     "output_type": "stream",
     "text": [
      "(2347, 6) (2255, 6)\n"
     ]
    },
    {
     "name": "stderr",
     "output_type": "stream",
     "text": [
      "C:\\Users\\King Betse\\AppData\\Local\\Temp\\ipykernel_12692\\732711586.py:5: FutureWarning: A value is trying to be set on a copy of a DataFrame or Series through chained assignment using an inplace method.\n",
      "The behavior will change in pandas 3.0. This inplace method will never work because the intermediate object on which we are setting values always behaves as a copy.\n",
      "\n",
      "For example, when doing 'df[col].method(value, inplace=True)', try using 'df.method({col: value}, inplace=True)' or df[col] = df[col].method(value) instead, to perform the operation inplace on the original object.\n",
      "\n",
      "\n",
      "  df_cleanerd['Message'].fillna('No message', inplace=True)\n"
     ]
    }
   ],
   "source": [
    "# Remove rows with any missing values\n",
    "df_cleanerd = df.dropna()\n",
    "\n",
    "# Alternatively, fill missing values with a default value\n",
    "df_cleanerd['Message'].fillna('No message', inplace=True)\n",
    "\n",
    "df.to_csv('cleaned_data.csv', index=False)\n",
    "\n",
    "df_cleanerd =pd.read_csv('C:/Users/King Betse/Desktop/Kifiya-AIM-W7/notebook/cleaned_data.csv')\n",
    "\n",
    "df_cleanerd.head()\n",
    "\n",
    "print(df.shape,df_cleanerd.shape)\n",
    "\n",
    "print(df.shape,df_cleanerd.shape)\n"
   ]
  }
 ],
 "metadata": {
  "kernelspec": {
   "display_name": "base",
   "language": "python",
   "name": "python3"
  },
  "language_info": {
   "codemirror_mode": {
    "name": "ipython",
    "version": 3
   },
   "file_extension": ".py",
   "mimetype": "text/x-python",
   "name": "python",
   "nbconvert_exporter": "python",
   "pygments_lexer": "ipython3",
   "version": "3.12.3"
  }
 },
 "nbformat": 4,
 "nbformat_minor": 2
}
